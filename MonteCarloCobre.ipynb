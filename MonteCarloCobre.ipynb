{
 "cells": [
  {
   "cell_type": "code",
   "execution_count": 1,
   "id": "9488671b",
   "metadata": {},
   "outputs": [],
   "source": [
    "%matplotlib inline\n",
    "import numpy as np\n",
    "import matplotlib.pyplot as pl\n",
    "import uncertainpy as un"
   ]
  },
  {
   "cell_type": "code",
   "execution_count": 2,
   "id": "d8277fa9",
   "metadata": {},
   "outputs": [
    {
     "data": {
      "text/plain": [
       "0.10542857142857143"
      ]
     },
     "execution_count": 2,
     "metadata": {},
     "output_type": "execute_result"
    }
   ],
   "source": [
    "#concentracion de tiosulfato de sodio\n",
    "Cn = 0.01599 #concentración\n",
    "alic = 0.01 #alícuota\n",
    "v_bureta = 0.0091 #volumen consumido\n",
    "\n",
    "tio = 6*Cn*alic/v_bureta #Cn tiosulfato\n",
    "tio"
   ]
  },
  {
   "cell_type": "code",
   "execution_count": 3,
   "id": "08f7e571",
   "metadata": {},
   "outputs": [
    {
     "data": {
      "text/plain": [
       "(-0.5, 2)"
      ]
     },
     "execution_count": 3,
     "metadata": {},
     "output_type": "execute_result"
    },
    {
     "data": {
      "image/png": "[encoded data removed]",
      "text/plain": [
       "<Figure size 432x288 with 1 Axes>"
      ]
     },
     "metadata": {
      "needs_background": "light"
     },
     "output_type": "display_data"
    }
   ],
   "source": [
    "mu_Cn = 0.00001 #incertidumbre concentración\n",
    "mu_alic = 0.006 #incertidumbre alícuota\n",
    "mu_v_bureta = 0.03 #incertidumbre alícuota\n",
    "\n",
    "N=10000000 #iteraciones\n",
    "\n",
    "CnMC = Cn + mu_Cn*np.random.normal(size=N)\n",
    "alicMC = alic + mu_alic*np.random.triangular(0.009,0.01,0.012,N)\n",
    "v_buretaMC = v_bureta + mu_v_bureta*np.random.triangular(0.0090,0.0091,0.0092, N)\n",
    "\n",
    "tioMC = (6*CnMC*alicMC)/v_buretaMC\n",
    "\n",
    "pl.hist(tioMC,bins=np.linspace(0,50))\n",
    "pl.grid()\n",
    "pl.title(\"MC Estimate of density\")\n",
    "pl.xlim(-0.5,2)\n"
   ]
  },
  {
   "cell_type": "code",
   "execution_count": 4,
   "id": "47d92c7f",
   "metadata": {},
   "outputs": [
    {
     "data": {
      "text/plain": [
       "(0.00015224514077060434, 0.10299242332048822)"
      ]
     },
     "execution_count": 4,
     "metadata": {},
     "output_type": "execute_result"
    }
   ],
   "source": [
    "2*tioMC.std(), tioMC.mean() #incertidumbre al 95% de confianza y Concentración"
   ]
  },
  {
   "cell_type": "code",
   "execution_count": 5,
   "id": "985ea6c4",
   "metadata": {},
   "outputs": [],
   "source": [
    "#concentracion de tiosulfato de sodio\n",
    "Cn = 0.01599\n",
    "alic = 0.01\n",
    "v_bureta = 0.0091"
   ]
  },
  {
   "cell_type": "code",
   "execution_count": 6,
   "id": "08f47634",
   "metadata": {},
   "outputs": [
    {
     "data": {
      "text/plain": [
       "(array([0.01599076, 0.01597494, 0.0159582 , ..., 0.01599618, 0.01598488,\n",
       "        0.01597804]),\n",
       " array([0.01006536, 0.01006252, 0.01006081, ..., 0.01006232, 0.01005654,\n",
       "        0.01005944]),\n",
       " array([0.00937369, 0.00937374, 0.00937275, ..., 0.00937165, 0.00937163,\n",
       "        0.00937492]))"
      ]
     },
     "execution_count": 6,
     "metadata": {},
     "output_type": "execute_result"
    }
   ],
   "source": [
    "CnMC, alicMC, v_buretaMC"
   ]
  },
  {
   "cell_type": "markdown",
   "id": "fa53e250",
   "metadata": {},
   "source": [
    "### Con distribuciones normales"
   ]
  },
  {
   "cell_type": "code",
   "execution_count": 7,
   "id": "07a1cd21",
   "metadata": {},
   "outputs": [
    {
     "data": {
      "text/plain": [
       "(-5, 5)"
      ]
     },
     "execution_count": 7,
     "metadata": {},
     "output_type": "execute_result"
    },
    {
     "data": {
      "image/png": "[encoded data removed]",
      "text/plain": [
       "<Figure size 432x288 with 1 Axes>"
      ]
     },
     "metadata": {
      "needs_background": "light"
     },
     "output_type": "display_data"
    }
   ],
   "source": [
    "CnMC = Cn + mu_Cn*np.random.normal(size=N)\n",
    "alicMC = alic + mu_alic*np.random.normal(size=N)\n",
    "v_buretaMC = v_bureta + mu_v_bureta*np.random.normal(size=N)\n",
    "\n",
    "tioMC = (6*CnMC*alicMC)/v_buretaMC\n",
    "\n",
    "pl.hist(tioMC,bins=np.linspace(0,50))\n",
    "pl.grid()\n",
    "pl.title(\"MC Estimate of density\")\n",
    "pl.xlim(-5,5)"
   ]
  },
  {
   "cell_type": "code",
   "execution_count": 8,
   "id": "fd5b0dc8",
   "metadata": {},
   "outputs": [
    {
     "data": {
      "text/plain": [
       "(814.4389597739782, 0.07827604673371565)"
      ]
     },
     "execution_count": 8,
     "metadata": {},
     "output_type": "execute_result"
    }
   ],
   "source": [
    "2*tioMC.std(), tioMC.mean()"
   ]
  },
  {
   "cell_type": "code",
   "execution_count": 9,
   "id": "86330c21",
   "metadata": {},
   "outputs": [
    {
     "data": {
      "text/plain": [
       "(array([0.01452087, 0.01078898, 0.01481634, ..., 0.00683312, 0.00620266,\n",
       "        0.0119936 ]),\n",
       " array([0.01005785, 0.01006378, 0.01006782, ..., 0.01005949, 0.01006092,\n",
       "        0.0100604 ]))"
      ]
     },
     "execution_count": 9,
     "metadata": {},
     "output_type": "execute_result"
    }
   ],
   "source": [
    "alicMCa = alic + mu_alic*np.random.normal(size=N)\n",
    "alicMC = alic + mu_alic*np.random.triangular(0.009,0.01,0.012,N)\n",
    "\n",
    "alicMCa, alicMC"
   ]
  },
  {
   "cell_type": "code",
   "execution_count": null,
   "id": "8eadb7ab",
   "metadata": {},
   "outputs": [],
   "source": []
  }
 ],
 "metadata": {
  "kernelspec": {
   "display_name": "Python 3",
   "language": "python",
   "name": "python3"
  },
  "language_info": {
   "codemirror_mode": {
    "name": "ipython",
    "version": 3
   },
   "file_extension": ".py",
   "mimetype": "text/x-python",
   "name": "python",
   "nbconvert_exporter": "python",
   "pygments_lexer": "ipython3",
   "version": "3.8.8"
  }
 },
 "nbformat": 4,
 "nbformat_minor": 5
}
